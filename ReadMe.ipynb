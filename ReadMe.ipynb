{
 "cells": [
  {
   "cell_type": "code",
   "execution_count": null,
   "metadata": {},
   "outputs": [],
   "source": [
    "# Project Overview\n",
    "\n",
    "# 1. Build kafka based event processing system with producer and consumer\n",
    "# 2. Containerise the components using Docker and orchestrate them with Docker Compose.\n",
    "# 3. Develop autmated unit and integration tests for both components.\n",
    "# 4. Set up CI/CD pipeline using Github Actions to run tests, build Docker images, and deploy the application.\n",
    "\n",
    "# System Architecture\n",
    "\n",
    "# 1. Apache Kafka & Zookeeper\n",
    "# - core messaging backgbone managed via Docker Compose\n",
    "\n",
    "# 2. Producer Service\n",
    "# - Sends JSON messages to the Kafka topic periodically.\n",
    "# Simulates real-time event generation (sensor readings or user activity)\n",
    "\n",
    "# 3. Consumer Service\n",
    "# listens to the kafka topic and processes incoming messages\n",
    "# Logs the processed messages or performs simple data transformations.\n",
    "\n",
    "# Automated Tests\n",
    "# Unit tests for verifying that the producer sends messages and consumer processes them\n",
    "# Integration tests that can run against a test instance of Kafka"
   ]
  }
 ],
 "metadata": {
  "language_info": {
   "name": "python"
  }
 },
 "nbformat": 4,
 "nbformat_minor": 2
}
